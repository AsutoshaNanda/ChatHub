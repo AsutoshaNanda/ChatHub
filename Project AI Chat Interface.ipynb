{
 "cells": [
  {
   "cell_type": "markdown",
   "id": "035d325a-f408-4337-a1b0-de1d1f753851",
   "metadata": {},
   "source": [
    "# Section 1 : Basic Chat Interface"
   ]
  },
  {
   "cell_type": "code",
   "execution_count": 1,
   "id": "e7a2e915-6244-4304-a99f-bf59b806cd0c",
   "metadata": {},
   "outputs": [],
   "source": [
    "from dotenv import load_dotenv\n",
    "import os\n",
    "import requests\n",
    "from bs4 import BeautifulSoup\n",
    "import gradio as gr\n",
    "from openai import OpenAI\n",
    "import anthropic\n",
    "import google.generativeai"
   ]
  },
  {
   "cell_type": "code",
   "execution_count": 2,
   "id": "5ae6c434-25ed-4812-8a30-52b60667ab59",
   "metadata": {},
   "outputs": [
    {
     "name": "stdout",
     "output_type": "stream",
     "text": [
      "OpenAI API Key exists and begins sk-proj-\n",
      "Anthropic API Key exists and begins sk-ant-\n",
      "Google API Key exists and begins AIzaSyCp\n"
     ]
    }
   ],
   "source": [
    "load_dotenv()\n",
    "openai_api_key = os.getenv('OPENAI_API_KEY')\n",
    "anthropic_api_key = os.getenv('ANTHROPIC_API_KEY')\n",
    "google_api_key = os.getenv('GOOGLE_API_KEY')\n",
    "\n",
    "if openai_api_key:\n",
    "    print(f\"OpenAI API Key exists and begins {openai_api_key[:8]}\")\n",
    "else:\n",
    "    print(\"OpenAI API Key not set\")\n",
    "    \n",
    "if anthropic_api_key:\n",
    "    print(f\"Anthropic API Key exists and begins {anthropic_api_key[:7]}\")\n",
    "else:\n",
    "    print(\"Anthropic API Key not set\")\n",
    "\n",
    "if google_api_key:\n",
    "    print(f\"Google API Key exists and begins {google_api_key[:8]}\")\n",
    "else:\n",
    "    print(\"Google API Key not set\")"
   ]
  },
  {
   "cell_type": "code",
   "execution_count": 3,
   "id": "cfb53b69-34a5-4b2f-80ae-20366ce317b7",
   "metadata": {},
   "outputs": [],
   "source": [
    "openai= OpenAI()\n",
    "claude = anthropic.Anthropic()\n",
    "google.generativeai.configure()"
   ]
  },
  {
   "cell_type": "code",
   "execution_count": 11,
   "id": "ffa92ff7-8c87-474e-a9aa-5aebd9c254a7",
   "metadata": {},
   "outputs": [],
   "source": [
    "system_prompt ='You are a helpful assistant'"
   ]
  },
  {
   "cell_type": "code",
   "execution_count": 17,
   "id": "501c878f-0c54-4d1c-a885-937475bf8b1c",
   "metadata": {},
   "outputs": [],
   "source": [
    "def chat(message,history):\n",
    "    messages = [{'role':'system','content':system_prompt}]\n",
    "    for user_message,assistant_message in history:\n",
    "        messages.append({'role':'user','content':user_message})\n",
    "        messages.append({'role':'assistant','content':assistant_message})\n",
    "    messages.append({'role':'user','content':message})\n",
    "\n",
    "    stream = openai.chat.completions.create(\n",
    "        messages= messages,\n",
    "        model = 'gpt-4o-mini',\n",
    "        stream=True\n",
    "    )\n",
    "    response =''\n",
    "    for chunk in stream:\n",
    "        response += chunk.choices[0].delta.content or ''\n",
    "        response = response.replace('```','').replace('markdown','')\n",
    "        yield response"
   ]
  },
  {
   "cell_type": "code",
   "execution_count": 19,
   "id": "c9362b24-debc-4595-a417-bca6ccefaaea",
   "metadata": {},
   "outputs": [
    {
     "name": "stdout",
     "output_type": "stream",
     "text": [
      "* Running on local URL:  http://127.0.0.1:7864\n",
      "* Running on public URL: https://149e82b3a7652a15db.gradio.live\n",
      "\n",
      "This share link expires in 1 week. For free permanent hosting and GPU upgrades, run `gradio deploy` from the terminal in the working directory to deploy to Hugging Face Spaces (https://huggingface.co/spaces)\n"
     ]
    },
    {
     "data": {
      "text/html": [
       "<div><iframe src=\"https://149e82b3a7652a15db.gradio.live\" width=\"100%\" height=\"500\" allow=\"autoplay; camera; microphone; clipboard-read; clipboard-write;\" frameborder=\"0\" allowfullscreen></iframe></div>"
      ],
      "text/plain": [
       "<IPython.core.display.HTML object>"
      ]
     },
     "metadata": {},
     "output_type": "display_data"
    },
    {
     "data": {
      "text/plain": []
     },
     "execution_count": 19,
     "metadata": {},
     "output_type": "execute_result"
    }
   ],
   "source": [
    "gr.ChatInterface(fn = chat,type = 'messages').launch(share=True)"
   ]
  },
  {
   "cell_type": "markdown",
   "id": "190d1782-339d-4ad5-b37a-0ffab3320603",
   "metadata": {},
   "source": [
    "# Section 2 : Personalized Chat Interface"
   ]
  },
  {
   "cell_type": "code",
   "execution_count": 4,
   "id": "9644af0e-ec9e-4163-91b7-003c0bd8be7f",
   "metadata": {},
   "outputs": [],
   "source": [
    "system_message = \"You are a helpful assistant in a clothes store. You should try to gently encourage \\\n",
    "the customer to try items that are on sale. Hats are 60% off, and most other items are 50% off. \\\n",
    "For example, if the customer says 'I'm looking to buy a hat', \\\n",
    "you could reply something like, 'Wonderful - we have lots of hats - including several that are part of our sales event.'\\\n",
    "Encourage the customer to buy hats if they are unsure what to get.\\\n",
    "Another example is , if the customer says 'I am looking to buy something for a gift', \\\n",
    "You can reply them something like, 'Excellent - we have variety of t-shirt and pant combinations that are available which are\\\n",
    "are also part of our sales event.' Encourage the customer to buy something from the store.\""
   ]
  },
  {
   "cell_type": "code",
   "execution_count": 63,
   "id": "d13fd5c7-30de-4fb1-a089-a6f44b5166d0",
   "metadata": {},
   "outputs": [],
   "source": [
    "def chat(message,history):\n",
    "    messages = []\n",
    "    for user_message, assistant_message, *rest in history:\n",
    "        messages.append({'role':'user','content':user_message})\n",
    "        messages.append({'role':'assistant','content':assistant_message})\n",
    "    messages.append({'role':'user','content':message})\n",
    "\n",
    "    response = claude.messages.stream(\n",
    "        max_tokens = 1000,\n",
    "        model = 'claude-sonnet-4-20250514',\n",
    "        messages = messages,\n",
    "        system = system_message\n",
    "    )\n",
    "    result =''\n",
    "    with response as stream:\n",
    "        for text in stream.text_stream:\n",
    "            result += text or ''\n",
    "            yield result"
   ]
  },
  {
   "cell_type": "code",
   "execution_count": 64,
   "id": "b8e4599d-804b-4c1b-b918-bb246ec833d1",
   "metadata": {},
   "outputs": [
    {
     "name": "stdout",
     "output_type": "stream",
     "text": [
      "* Running on local URL:  http://127.0.0.1:7877\n",
      "* Running on public URL: https://4ee9b4bf09cb7b79a7.gradio.live\n",
      "\n",
      "This share link expires in 1 week. For free permanent hosting and GPU upgrades, run `gradio deploy` from the terminal in the working directory to deploy to Hugging Face Spaces (https://huggingface.co/spaces)\n"
     ]
    },
    {
     "data": {
      "text/html": [
       "<div><iframe src=\"https://4ee9b4bf09cb7b79a7.gradio.live\" width=\"100%\" height=\"500\" allow=\"autoplay; camera; microphone; clipboard-read; clipboard-write;\" frameborder=\"0\" allowfullscreen></iframe></div>"
      ],
      "text/plain": [
       "<IPython.core.display.HTML object>"
      ]
     },
     "metadata": {},
     "output_type": "display_data"
    },
    {
     "data": {
      "text/plain": []
     },
     "execution_count": 64,
     "metadata": {},
     "output_type": "execute_result"
    }
   ],
   "source": [
    "gr.ChatInterface(fn = chat,type = 'messages').launch(share=True)"
   ]
  },
  {
   "cell_type": "code",
   "execution_count": 5,
   "id": "2160dfcb-82ec-43d6-a912-61f723e4c1ef",
   "metadata": {},
   "outputs": [],
   "source": [
    "system_message +=\"\\nIf the customer asks for shoes, you should respond that shoes are not on sale today, \\\n",
    "but remind the customer to look at hats!\""
   ]
  },
  {
   "cell_type": "code",
   "execution_count": 33,
   "id": "19a86f00-2148-45e3-bf7e-f5f27723b965",
   "metadata": {},
   "outputs": [
    {
     "name": "stdout",
     "output_type": "stream",
     "text": [
      "* Running on local URL:  http://127.0.0.1:7868\n",
      "* Running on public URL: https://899b4ece9e3ca1a715.gradio.live\n",
      "\n",
      "This share link expires in 1 week. For free permanent hosting and GPU upgrades, run `gradio deploy` from the terminal in the working directory to deploy to Hugging Face Spaces (https://huggingface.co/spaces)\n"
     ]
    },
    {
     "data": {
      "text/html": [
       "<div><iframe src=\"https://899b4ece9e3ca1a715.gradio.live\" width=\"100%\" height=\"500\" allow=\"autoplay; camera; microphone; clipboard-read; clipboard-write;\" frameborder=\"0\" allowfullscreen></iframe></div>"
      ],
      "text/plain": [
       "<IPython.core.display.HTML object>"
      ]
     },
     "metadata": {},
     "output_type": "display_data"
    },
    {
     "data": {
      "text/plain": []
     },
     "execution_count": 33,
     "metadata": {},
     "output_type": "execute_result"
    }
   ],
   "source": [
    "gr.ChatInterface(fn = chat, type = 'messages').launch(share=True)"
   ]
  },
  {
   "cell_type": "markdown",
   "id": "efe503da-6aea-4981-833e-6c31f0112f53",
   "metadata": {},
   "source": [
    "# Personalized Chat Interface with Multiple models"
   ]
  },
  {
   "cell_type": "code",
   "execution_count": 49,
   "id": "389a855b-ca4c-417d-ac4d-15367bff7aaa",
   "metadata": {},
   "outputs": [],
   "source": [
    "def chat_gpt(message,history):\n",
    "    messages = [{'role':'system','content':system_message}]\n",
    "    for user_message, assistant_message, *rest in history:\n",
    "        messages.append({'role':'user','content':user_message})\n",
    "        messages.append({'role':'assistant','content':assistant_message})\n",
    "    messages.append({'role':'user','content':message})\n",
    "\n",
    "    stream = openai.chat.completions.create(\n",
    "        messages = messages,\n",
    "        model = 'gpt-4o-mini',\n",
    "        stream = True\n",
    "    )\n",
    "    response = ''\n",
    "    for chunk in stream:\n",
    "        response += chunk.choices[0].delta.content or ''\n",
    "        response = response.replace('```','').replace('markdown','')\n",
    "        yield response"
   ]
  },
  {
   "cell_type": "code",
   "execution_count": 53,
   "id": "1b743fad-c6a1-4b46-bd3b-76cea5497faf",
   "metadata": {},
   "outputs": [],
   "source": [
    "def chat_claude(message,history):\n",
    "    messages = []\n",
    "    for user_message,assistant_message , *rest in history:\n",
    "        messages.append({'role':'user','content':user_message})\n",
    "        messages.append({'role':'assistant','content':assistant_message})\n",
    "    messages.append({'role':'user','content':message})\n",
    "\n",
    "    response = claude.messages.stream(\n",
    "        max_tokens = 10000,\n",
    "        system = system_message,\n",
    "        model ='claude-sonnet-4-20250514',\n",
    "        messages = messages\n",
    "    )\n",
    "    result =''\n",
    "    with response as stream:\n",
    "        for text in stream.text_stream:\n",
    "            result += text or ''\n",
    "            yield result"
   ]
  },
  {
   "cell_type": "code",
   "execution_count": 55,
   "id": "33526588-a696-4936-9bc4-31dfa00013dd",
   "metadata": {},
   "outputs": [],
   "source": [
    "def chat_gemini(message,history):\n",
    "    messages = []\n",
    "    for user_message, assistant_message, *rest in history:\n",
    "        messages.append({'role': 'user', 'parts': [{'text': user_message}]})\n",
    "        messages.append({'role': 'model', 'parts': [{'text': assistant_message}]})\n",
    "    messages.append({'role': 'user', 'parts': [{'text': message}]})\n",
    "\n",
    "    gemini = google.generativeai.GenerativeModel(\n",
    "        system_instruction = system_message,\n",
    "        model_name = 'gemini-2.5-flash-lite'\n",
    "    )\n",
    "    result =''\n",
    "    response = gemini.generate_content(messages, stream = True)\n",
    "    for chunk in response:\n",
    "        if chunk.text:\n",
    "            result += chunk.text \n",
    "            yield result"
   ]
  },
  {
   "cell_type": "code",
   "execution_count": 56,
   "id": "395f9eea-e1ed-433f-99b5-a451cf4749e3",
   "metadata": {},
   "outputs": [],
   "source": [
    "def chat(message,history,model):\n",
    "    if model == 'GPT':\n",
    "        response = chat_gpt(message,history)\n",
    "    elif model == 'Claude':\n",
    "        response = chat_claude(message,history)\n",
    "    elif model == 'Gemini':\n",
    "        response = chat_gemini(message,history)\n",
    "    else:\n",
    "        raise ValueError('Model Not Found')\n",
    "\n",
    "    yield from response"
   ]
  },
  {
   "cell_type": "code",
   "execution_count": 60,
   "id": "b8380eba-8ce3-4f26-a657-0ed063dae60e",
   "metadata": {},
   "outputs": [
    {
     "name": "stdout",
     "output_type": "stream",
     "text": [
      "* Running on local URL:  http://127.0.0.1:7875\n",
      "* Running on public URL: https://c896db1cd4a007673b.gradio.live\n",
      "\n",
      "This share link expires in 1 week. For free permanent hosting and GPU upgrades, run `gradio deploy` from the terminal in the working directory to deploy to Hugging Face Spaces (https://huggingface.co/spaces)\n"
     ]
    },
    {
     "data": {
      "text/html": [
       "<div><iframe src=\"https://c896db1cd4a007673b.gradio.live\" width=\"100%\" height=\"500\" allow=\"autoplay; camera; microphone; clipboard-read; clipboard-write;\" frameborder=\"0\" allowfullscreen></iframe></div>"
      ],
      "text/plain": [
       "<IPython.core.display.HTML object>"
      ]
     },
     "metadata": {},
     "output_type": "display_data"
    },
    {
     "data": {
      "text/plain": []
     },
     "execution_count": 60,
     "metadata": {},
     "output_type": "execute_result"
    }
   ],
   "source": [
    "gr.ChatInterface(fn = chat, type = 'messages',additional_inputs=gr.Dropdown([\"GPT\", \"Claude\", \"Gemini\"],label ='Select Your Model')).launch(share=True)"
   ]
  },
  {
   "cell_type": "markdown",
   "id": "00be6add-136f-4da3-8f90-03b5dc2dad2a",
   "metadata": {},
   "source": [
    "# Use of System Prompt again after using once"
   ]
  },
  {
   "cell_type": "code",
   "execution_count": 66,
   "id": "890fd29b-83e2-4dcd-b250-ff8d6304e875",
   "metadata": {},
   "outputs": [],
   "source": [
    "def chat(message,history):\n",
    "    messages = [{'role':'system','content':system_message}]\n",
    "    for user_message, assistant_message , *rest in history:\n",
    "        messages.append({\"role\":'user','content':user_message})\n",
    "        messages.append({'role':'assistant','content':assistant_message})\n",
    "\n",
    "    if 'belt' in message:\n",
    "        messages.append({'role':'system','content':'The store does not sell belts; if you are asked for belts, be sure to point out other items on sale.'})\n",
    "\n",
    "    messages.append({'role':'user','content':message})\n",
    "\n",
    "    stream = openai.chat.completions.create(\n",
    "        messages = messages,\n",
    "        model = 'gpt-4o',\n",
    "        stream = True\n",
    "    )\n",
    "    response =''\n",
    "    for chunk in stream:\n",
    "        response += chunk.choices[0].delta.content or ''\n",
    "        response = response.replace('```','').replace('markdown','')\n",
    "        yield response"
   ]
  },
  {
   "cell_type": "code",
   "execution_count": 67,
   "id": "d8e7fff0-b002-46f9-8832-8c746dec353d",
   "metadata": {},
   "outputs": [
    {
     "name": "stdout",
     "output_type": "stream",
     "text": [
      "* Running on local URL:  http://127.0.0.1:7878\n",
      "* Running on public URL: https://ead9a33dd3d538b97f.gradio.live\n",
      "\n",
      "This share link expires in 1 week. For free permanent hosting and GPU upgrades, run `gradio deploy` from the terminal in the working directory to deploy to Hugging Face Spaces (https://huggingface.co/spaces)\n"
     ]
    },
    {
     "data": {
      "text/html": [
       "<div><iframe src=\"https://ead9a33dd3d538b97f.gradio.live\" width=\"100%\" height=\"500\" allow=\"autoplay; camera; microphone; clipboard-read; clipboard-write;\" frameborder=\"0\" allowfullscreen></iframe></div>"
      ],
      "text/plain": [
       "<IPython.core.display.HTML object>"
      ]
     },
     "metadata": {},
     "output_type": "display_data"
    },
    {
     "data": {
      "text/plain": []
     },
     "execution_count": 67,
     "metadata": {},
     "output_type": "execute_result"
    }
   ],
   "source": [
    "gr.ChatInterface(fn = chat, type = 'messages').launch(share=True)"
   ]
  },
  {
   "cell_type": "markdown",
   "id": "c44789d5-f02c-4363-9109-65f9f297ff0d",
   "metadata": {},
   "source": [
    "# Well Informed Chat Interface : Prices Feed to the LLM"
   ]
  },
  {
   "cell_type": "code",
   "execution_count": 18,
   "id": "66140610-6ed6-4783-a857-f6a956a25f5f",
   "metadata": {},
   "outputs": [],
   "source": [
    "def chat(message,history):\n",
    "    messages = [{'role':'system','content':system_message}]\n",
    "    for user_message,assistant_message, * rest in history:\n",
    "        messages.append({'role':'user','content':user_message})\n",
    "        messages.append({'role':'assistant','content':assistant_message})\n",
    "        \n",
    "    price = {\n",
    "        'small hat' : '20$',\n",
    "        'medium hat' : '25$',\n",
    "        'large hat' : '30$'\n",
    "    }\n",
    "\n",
    "    \n",
    "    if isinstance(message, str) and message.lower() in ['price', 'cost', 'fee', 'retail', 'value', 'amount', 'listing', 'worth']:\n",
    "        messages.append({'role':'system','content':f\"Product prices are decided based on size. \\\n",
    "        Here are the before-sale prices: {price}. \\\n",
    "        Always provide both the before-sale price and \\\n",
    "        the after-sale price (apply any discount mentioned by the user). \\\n",
    "        If no discount is specified, show only the before-sale price.\"})\n",
    "        \n",
    "    messages.append({'role':'user','content':message})\n",
    "\n",
    "    stream = openai.chat.completions.create(\n",
    "        messages = messages,\n",
    "        model = 'gpt-4o-mini',\n",
    "        stream = True\n",
    "    )\n",
    "\n",
    "    response = ''\n",
    "    for chunk in stream:\n",
    "        response += chunk.choices[0].delta.content or ''\n",
    "        response = response.replace('```','').replace('markdown','')\n",
    "        yield response"
   ]
  },
  {
   "cell_type": "code",
   "execution_count": 19,
   "id": "046c68fb-bbbc-4f7b-872b-a0885756f4a7",
   "metadata": {},
   "outputs": [
    {
     "name": "stdout",
     "output_type": "stream",
     "text": [
      "* Running on local URL:  http://127.0.0.1:7864\n",
      "* Running on public URL: https://10c9bd3665de5fe889.gradio.live\n",
      "\n",
      "This share link expires in 1 week. For free permanent hosting and GPU upgrades, run `gradio deploy` from the terminal in the working directory to deploy to Hugging Face Spaces (https://huggingface.co/spaces)\n"
     ]
    },
    {
     "data": {
      "text/html": [
       "<div><iframe src=\"https://10c9bd3665de5fe889.gradio.live\" width=\"100%\" height=\"500\" allow=\"autoplay; camera; microphone; clipboard-read; clipboard-write;\" frameborder=\"0\" allowfullscreen></iframe></div>"
      ],
      "text/plain": [
       "<IPython.core.display.HTML object>"
      ]
     },
     "metadata": {},
     "output_type": "display_data"
    },
    {
     "data": {
      "text/plain": []
     },
     "execution_count": 19,
     "metadata": {},
     "output_type": "execute_result"
    }
   ],
   "source": [
    "gr.ChatInterface(fn = chat,type='messages').launch(share=True)"
   ]
  },
  {
   "cell_type": "code",
   "execution_count": null,
   "id": "b8a16d20-4a60-4970-85f4-57256c8aee2c",
   "metadata": {},
   "outputs": [],
   "source": []
  }
 ],
 "metadata": {
  "kernelspec": {
   "display_name": "Python 3 (ipykernel)",
   "language": "python",
   "name": "python3"
  },
  "language_info": {
   "codemirror_mode": {
    "name": "ipython",
    "version": 3
   },
   "file_extension": ".py",
   "mimetype": "text/x-python",
   "name": "python",
   "nbconvert_exporter": "python",
   "pygments_lexer": "ipython3",
   "version": "3.11.13"
  }
 },
 "nbformat": 4,
 "nbformat_minor": 5
}
